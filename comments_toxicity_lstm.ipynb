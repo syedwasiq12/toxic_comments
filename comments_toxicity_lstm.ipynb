{
  "nbformat": 4,
  "nbformat_minor": 0,
  "metadata": {
    "colab": {
      "provenance": [],
      "gpuType": "T4"
    },
    "kernelspec": {
      "name": "python3",
      "display_name": "Python 3"
    },
    "language_info": {
      "name": "python"
    },
    "accelerator": "GPU"
  },
  "cells": [
    {
      "cell_type": "code",
      "execution_count": 1,
      "metadata": {
        "id": "cq1UdpbCOlLa"
      },
      "outputs": [],
      "source": [
        "import numpy as np\n",
        "import pandas as pd\n",
        "import scipy\n",
        "import matplotlib.pyplot as plt\n",
        "import seaborn as sns\n",
        "import re\n",
        "from wordcloud import WordCloud, STOPWORDS\n",
        "import nltk\n",
        "from nltk.corpus import stopwords\n",
        "from nltk.stem import SnowballStemmer, PorterStemmer\n",
        "import math\n",
        "from collections import Counter\n",
        "from sklearn.feature_extraction.text import TfidfVectorizer, CountVectorizer\n",
        "from sklearn.model_selection import train_test_split\n",
        "from sklearn.metrics import roc_auc_score, roc_curve, auc, mean_squared_error\n",
        "from sklearn.decomposition import TruncatedSVD, PCA\n",
        "from sklearn.linear_model import LinearRegression, SGDRegressor\n",
        "from sklearn.svm import SVR\n",
        "from sklearn.tree import DecisionTreeRegressor\n",
        "from sklearn.ensemble import RandomForestRegressor, AdaBoostRegressor\n",
        "from xgboost import XGBRegressor\n",
        "import gensim\n",
        "import string\n",
        "import tensorflow as tf\n",
        "import keras\n",
        "from keras.callbacks import ModelCheckpoint\n",
        "from keras.models import Sequential\n",
        "from keras.layers import Dense\n",
        "from keras.models import Sequential\n",
        "from tensorflow.keras.layers import LSTM, Dense, Embedding\n",
        "\n",
        "from keras.layers import Dropout\n",
        "import warnings\n",
        "from keras import backend as K"
      ]
    },
    {
      "cell_type": "code",
      "source": [
        "from google.colab import drive\n",
        "drive.mount('/content/drive')\n"
      ],
      "metadata": {
        "colab": {
          "base_uri": "https://localhost:8080/"
        },
        "id": "FE0wrssiO9xw",
        "outputId": "c14b049f-9710-4793-e2e8-47fc7f38b52c"
      },
      "execution_count": 3,
      "outputs": [
        {
          "output_type": "stream",
          "name": "stdout",
          "text": [
            "Mounted at /content/drive\n"
          ]
        }
      ]
    },
    {
      "cell_type": "code",
      "source": [
        "!ls '/content/drive/My Drive/'\n",
        "import zipfile"
      ],
      "metadata": {
        "colab": {
          "base_uri": "https://localhost:8080/"
        },
        "id": "_fiKlvK0PA6g",
        "outputId": "337611d1-dbb6-4c21-d4e1-14733207a387"
      },
      "execution_count": 4,
      "outputs": [
        {
          "output_type": "stream",
          "name": "stdout",
          "text": [
            "'Colab Notebooks'   data_comments.zip   ntu_frames.zip\n"
          ]
        }
      ]
    },
    {
      "cell_type": "code",
      "source": [
        "# Path to the zipped folders\n",
        "zip_file = '/content/drive/My Drive/data_comments.zip'\n",
        "# Extract folder\n",
        "with zipfile.ZipFile(zip_file, 'r') as zip_ref:\n",
        "    zip_ref.extractall('/content/folder')\n"
      ],
      "metadata": {
        "id": "tBe6NYdLPBXo"
      },
      "execution_count": 5,
      "outputs": []
    },
    {
      "cell_type": "code",
      "source": [
        "import matplotlib.pyplot as plt"
      ],
      "metadata": {
        "id": "qg7VpXI3PD2Q"
      },
      "execution_count": 6,
      "outputs": []
    },
    {
      "cell_type": "code",
      "source": [
        "import pandas as pd\n",
        "X_train = pd.read_pickle('/content/folder/data_comments/X_train.pkl')\n",
        "X_cv = pd.read_pickle('/content/folder/data_comments/X_cv.pkl')\n",
        "y_train = pd.read_pickle('/content/folder/data_comments/y_train.pkl')\n",
        "y_cv = pd.read_pickle('/content/folder/data_comments/y_cv.pkl')"
      ],
      "metadata": {
        "id": "nuVHsK6_PFt6"
      },
      "execution_count": 7,
      "outputs": []
    },
    {
      "cell_type": "code",
      "source": [
        "from tensorflow.keras.preprocessing.sequence import pad_sequences\n",
        "from tensorflow.keras.models import Sequential\n",
        "from tensorflow.keras.layers import Embedding, LSTM, Dense\n",
        "import numpy as np\n",
        "import pandas as pd\n",
        "\n",
        "class LSTMFeaturization:\n",
        "    def __init__(self):\n",
        "        self.word_mapping = None\n",
        "        self.total_words = None\n",
        "\n",
        "    def build_vocabulary(self, sentences):\n",
        "        vocab = set()\n",
        "        for x in sentences:\n",
        "            for word in x.split():\n",
        "                vocab.add(word)\n",
        "        vocab_dict = dict.fromkeys(vocab, 0)\n",
        "        for x in sentences:\n",
        "            for word in x.split():\n",
        "                vocab_dict[word] += 1\n",
        "        return vocab_dict\n",
        "\n",
        "    def get_mapping(self, vocab_dict):\n",
        "        k = []\n",
        "        v = []\n",
        "        for keys, val in vocab_dict.items():\n",
        "            k.append(keys)\n",
        "            v.append(val)\n",
        "        kv = np.vstack((k, v)).T\n",
        "        df = pd.DataFrame(columns=[\"Word\", \"Count\"], data=kv)\n",
        "        df['Count'] = df['Count'].astype('int')\n",
        "        df.sort_values(by=['Count'], ascending=False, inplace=True)\n",
        "        df.reset_index(inplace=True)\n",
        "        df['mapping'] = df.index + 1\n",
        "        df.drop(columns=['index', 'Count'], inplace=True)\n",
        "        dictionary = dict(zip(df['Word'], df['mapping']))\n",
        "        return dictionary\n",
        "\n",
        "    def fit(self, sentences):\n",
        "        v = self.build_vocabulary(sentences)\n",
        "        self.word_mapping = self.get_mapping(v)\n",
        "        self.total_words = len(self.word_mapping)\n",
        "\n",
        "    def transform(self, sentences, pad_length=350):\n",
        "        whole = []\n",
        "        for x in sentences:\n",
        "            part = []\n",
        "            for word in x.split():\n",
        "                if word in self.word_mapping:\n",
        "                    part.append(self.word_mapping[word])\n",
        "            whole.append(part)\n",
        "        whole = pad_sequences(whole, maxlen=pad_length)\n",
        "        return whole\n",
        "\n",
        "# Convert the 'preprocessed_text' column to strings and fill NaNs with an empty string\n",
        "X_train['preprocessed_text'] = X_train['preprocessed_text'].astype(str).fillna('')\n",
        "X_cv['preprocessed_text'] = X_cv['preprocessed_text'].astype(str).fillna('')\n",
        "\n",
        "# LSTM model training\n",
        "lstmfeat = LSTMFeaturization()\n",
        "lstmfeat.fit(X_train['preprocessed_text'])\n",
        "lstm_train = lstmfeat.transform(X_train['preprocessed_text'])\n",
        "lstm_cv = lstmfeat.transform(X_cv['preprocessed_text'])\n",
        "\n",
        "embedding_vecor_length = 100\n",
        "total_words = lstmfeat.total_words\n",
        "\n",
        "lstm_model = Sequential()\n",
        "lstm_model.add(Embedding(total_words + 1, embedding_vecor_length, input_length=350))\n",
        "lstm_model.add(LSTM(128, return_sequences=True))\n",
        "lstm_model.add(LSTM(128))\n",
        "lstm_model.add(Dense(1, activation='sigmoid'))\n",
        "lstm_model.compile(loss='mean_squared_error', optimizer='rmsprop', metrics=['mse'])\n",
        "print(lstm_model.summary())\n"
      ],
      "metadata": {
        "colab": {
          "base_uri": "https://localhost:8080/"
        },
        "id": "xdTIC9T1PJyQ",
        "outputId": "d0d88b79-7fe7-493f-d5cf-cbba57c6e0c3"
      },
      "execution_count": 8,
      "outputs": [
        {
          "output_type": "stream",
          "name": "stdout",
          "text": [
            "Model: \"sequential\"\n",
            "_________________________________________________________________\n",
            " Layer (type)                Output Shape              Param #   \n",
            "=================================================================\n",
            " embedding (Embedding)       (None, 350, 100)          20154600  \n",
            "                                                                 \n",
            " lstm (LSTM)                 (None, 350, 128)          117248    \n",
            "                                                                 \n",
            " lstm_1 (LSTM)               (None, 128)               131584    \n",
            "                                                                 \n",
            " dense (Dense)               (None, 1)                 129       \n",
            "                                                                 \n",
            "=================================================================\n",
            "Total params: 20403561 (77.83 MB)\n",
            "Trainable params: 20403561 (77.83 MB)\n",
            "Non-trainable params: 0 (0.00 Byte)\n",
            "_________________________________________________________________\n",
            "None\n"
          ]
        }
      ]
    },
    {
      "cell_type": "code",
      "source": [
        "filepath=\"best_lstm_model.hdf5\"\n",
        "checkpoint = ModelCheckpoint(filepath, monitor='val_loss', verbose=1, save_best_only=True, mode='min')\n",
        "callbacks_list = [checkpoint]\n",
        "\n",
        "history = lstm_model.fit(lstm_train, y_train, epochs=5, batch_size=2048, validation_data=(lstm_cv, y_cv), verbose=1, callbacks=callbacks_list)\n",
        "\n",
        "# Plot Loss Curves for LSTM\n",
        "plt.figure(figsize=[8,6])\n",
        "plt.plot(history.history['loss'],'r',linewidth=3.0)\n",
        "plt.plot(history.history['val_loss'],'b',linewidth=3.0)\n",
        "plt.legend(['Training loss', 'Validation Loss'], fontsize=18)\n",
        "plt.xlabel('Epochs ', fontsize=16)\n",
        "plt.ylabel('Loss', fontsize=16)\n",
        "plt.title('Loss Curves', fontsize=16)\n",
        "plt.show()"
      ],
      "metadata": {
        "colab": {
          "base_uri": "https://localhost:8080/",
          "height": 991
        },
        "id": "xEvOBntTPL2_",
        "outputId": "ab4336af-8872-4e01-acce-65330684fd71"
      },
      "execution_count": 9,
      "outputs": [
        {
          "output_type": "stream",
          "name": "stdout",
          "text": [
            "Epoch 1/5\n",
            "661/661 [==============================] - ETA: 0s - loss: 0.0396 - mse: 0.0396\n",
            "Epoch 1: val_loss improved from inf to 0.03938, saving model to best_lstm_model.hdf5\n"
          ]
        },
        {
          "output_type": "stream",
          "name": "stderr",
          "text": [
            "/usr/local/lib/python3.10/dist-packages/keras/src/engine/training.py:3103: UserWarning: You are saving your model as an HDF5 file via `model.save()`. This file format is considered legacy. We recommend using instead the native Keras format, e.g. `model.save('my_model.keras')`.\n",
            "  saving_api.save_model(\n"
          ]
        },
        {
          "output_type": "stream",
          "name": "stdout",
          "text": [
            "\b\b\b\b\b\b\b\b\b\b\b\b\b\b\b\b\b\b\b\b\b\b\b\b\b\b\b\b\b\b\b\b\b\b\b\b\b\b\b\b\b\b\b\b\b\b\b\b\b\b\b\b\b\b\b\b\b\b\b\b\b\b\b\b\b\b\b\b\b\b\b\b\b\b\b\b\b\b\b\r661/661 [==============================] - 346s 515ms/step - loss: 0.0396 - mse: 0.0396 - val_loss: 0.0394 - val_mse: 0.0394\n",
            "Epoch 2/5\n",
            "661/661 [==============================] - ETA: 0s - loss: 0.0355 - mse: 0.0355\n",
            "Epoch 2: val_loss improved from 0.03938 to 0.02877, saving model to best_lstm_model.hdf5\n",
            "661/661 [==============================] - 347s 525ms/step - loss: 0.0355 - mse: 0.0355 - val_loss: 0.0288 - val_mse: 0.0288\n",
            "Epoch 3/5\n",
            "661/661 [==============================] - ETA: 0s - loss: 0.0242 - mse: 0.0242\n",
            "Epoch 3: val_loss improved from 0.02877 to 0.02136, saving model to best_lstm_model.hdf5\n",
            "661/661 [==============================] - 353s 535ms/step - loss: 0.0242 - mse: 0.0242 - val_loss: 0.0214 - val_mse: 0.0214\n",
            "Epoch 4/5\n",
            "661/661 [==============================] - ETA: 0s - loss: 0.0195 - mse: 0.0195\n",
            "Epoch 4: val_loss improved from 0.02136 to 0.01870, saving model to best_lstm_model.hdf5\n",
            "661/661 [==============================] - 353s 534ms/step - loss: 0.0195 - mse: 0.0195 - val_loss: 0.0187 - val_mse: 0.0187\n",
            "Epoch 5/5\n",
            "661/661 [==============================] - ETA: 0s - loss: 0.0178 - mse: 0.0178\n",
            "Epoch 5: val_loss improved from 0.01870 to 0.01752, saving model to best_lstm_model.hdf5\n",
            "661/661 [==============================] - 354s 535ms/step - loss: 0.0178 - mse: 0.0178 - val_loss: 0.0175 - val_mse: 0.0175\n"
          ]
        },
        {
          "output_type": "display_data",
          "data": {
            "text/plain": [
              "<Figure size 800x600 with 1 Axes>"
            ],
            "image/png": "[encoded data removed]"
          },
          "metadata": {}
        }
      ]
    }
  ]
}